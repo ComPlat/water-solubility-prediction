{
 "cells": [
  {
   "cell_type": "code",
   "execution_count": 200,
   "source": [
    "import numpy as np\n",
    "import pandas as pd\n",
    "import matplotlib.pyplot as plt\n",
    "%matplotlib inline\n",
    "import seaborn as sns\n",
    "import warnings\n",
    "warnings.filterwarnings('ignore')\n",
    "from sklearn.linear_model import Ridge\n",
    "from sklearn.impute import SimpleImputer\n",
    "from sklearn.pipeline import Pipeline\n",
    "from sklearn.compose import ColumnTransformer\n",
    "from sklearn.preprocessing import StandardScaler\n",
    "from rdkit import RDLogger\n",
    "RDLogger.DisableLog('rdApp.*')\n",
    "from rdkit.Chem import MolStandardize\n",
    "import joblib\n",
    "\n",
    "import matplotlib.pyplot as plt\n",
    "from rdkit import Chem\n",
    "from rdkit import DataStructs\n",
    "from rdkit.Chem import AllChem\n",
    "from rdkit.Chem import Descriptors,rdMolDescriptors\n",
    "#import openpyxl\n"
   ],
   "outputs": [],
   "metadata": {}
  },
  {
   "cell_type": "code",
   "execution_count": 201,
   "source": [
    "### Installation of the basic library \n",
    "#from openbabel import pybel \n",
    "from rdkit import Chem,DataStructs\n",
    "from rdkit.Chem import AllChem\n",
    "from rdkit.Chem.Draw import IPythonConsole\n",
    "from rdkit.Chem import Descriptors\n",
    "from rdkit.Chem import Lipinski\n",
    "from rdkit.Chem import Crippen\n",
    "import numpy as np"
   ],
   "outputs": [],
   "metadata": {}
  },
  {
   "cell_type": "code",
   "execution_count": 202,
   "source": [
    "train_set=pd.read_csv('data/unique_train4_new24.csv')\n",
    "test_set=pd.read_csv('data/unique_test_new24.csv')\n",
    "print(train_set.shape)\n",
    "print(test_set.shape)"
   ],
   "outputs": [
    {
     "output_type": "stream",
     "name": "stdout",
     "text": [
      "(16626, 4)\n",
      "(1282, 5)\n"
     ]
    }
   ],
   "metadata": {}
  },
  {
   "cell_type": "code",
   "execution_count": 180,
   "source": [
    "### Selecting required column...\n",
    "train_set=train_set[['smiles_canon','Solubility']]\n",
    "test_set=test_set[['smiles_canon','Solubility']]"
   ],
   "outputs": [],
   "metadata": {}
  },
  {
   "cell_type": "code",
   "execution_count": 203,
   "source": [
    "### Taking out the smiles from dataset \n",
    "smiles_train=train_set.smiles_canon\n",
    "smiles_test=test_set.smiles_canon"
   ],
   "outputs": [],
   "metadata": {}
  },
  {
   "cell_type": "code",
   "execution_count": 204,
   "source": [
    "### Making the smiles into the list \n",
    "smiles_list_train = smiles_train.tolist()\n",
    "smiles_list_test = smiles_test.tolist()"
   ],
   "outputs": [],
   "metadata": {}
  },
  {
   "cell_type": "code",
   "execution_count": 205,
   "source": [
    "functional_groups = {\n",
    "        # Polar funtional group \n",
    "        'Hydroxyl Group': '[OH]',\n",
    "        'Carbonyl Group': 'C=O',\n",
    "        'Amide Group':'C(=O)N',\n",
    "        'Carboxyl Group': 'C(=O)[OH]',\n",
    "        # Non Polar funtional group \n",
    "        'Alkyl': '[R]', \n",
    "        'Aromatic Rings': 'c',\n",
    "        'Alkene': 'C=C',\n",
    "    }"
   ],
   "outputs": [],
   "metadata": {}
  },
  {
   "cell_type": "code",
   "execution_count": 206,
   "source": [
    "### Funtion to take out the presence of funtional group with 1 and not presence with 0 \n",
    "import pandas as pd\n",
    "from rdkit import Chem\n",
    "\n",
    "def get_functional_groups(smiles):\n",
    "    functional_groups = {\n",
    "        # Polar funtional group \n",
    "        'Hydroxyl Group': '[OH]',\n",
    "        'Carbonyl Group': 'C=O',\n",
    "        'Amide Group':'C(=O)N',\n",
    "        'Carboxyl Group': 'C(=O)[OH]',\n",
    "        # Non Polar funtional group \n",
    "        'Alkyl': '[R]', \n",
    "        'Aromatic Rings': 'c',\n",
    "        'Alkene': 'C=C'\n",
    "    }\n",
    "    results = []\n",
    "    for s in smiles:\n",
    "        mol = Chem.MolFromSmiles(s)\n",
    "        fg_presence = {fg: 1 if mol.HasSubstructMatch(Chem.MolFromSmarts(smarts)) else 0 for fg, smarts in functional_groups.items()}\n",
    "        fg_presence['SMILES'] = s\n",
    "        results.append(fg_presence)\n",
    "    return results"
   ],
   "outputs": [],
   "metadata": {}
  },
  {
   "cell_type": "code",
   "execution_count": 207,
   "source": [
    "def count_functional_groups(compound, functional_groups):\n",
    "    group_counts = {group: 0 for group in functional_groups}\n",
    "    \n",
    "    for group in functional_groups:\n",
    "        # Use the count method to count occurrences of the functional group in the compound\n",
    "        count = compound.count(group)\n",
    "        group_counts[group] = count\n",
    "    return group_counts"
   ],
   "outputs": [],
   "metadata": {}
  },
  {
   "cell_type": "code",
   "execution_count": 208,
   "source": [
    "### Writing a funtion to take out the funtional group from the list \n",
    "def smiles_group(smiles_list):\n",
    "  functional_groups_list = get_functional_groups(smiles_list)\n",
    "  df = pd.DataFrame(functional_groups_list)\n",
    "  df = df[['SMILES'] + list(functional_groups.keys())]\n",
    "  return df"
   ],
   "outputs": [],
   "metadata": {}
  },
  {
   "cell_type": "code",
   "execution_count": 209,
   "source": [
    "### Creating a dataframe from the list with functional group \n",
    "df_train_fn=smiles_group(smiles_list_train)\n",
    "df_test_fn=smiles_group(smiles_list_test)"
   ],
   "outputs": [],
   "metadata": {}
  },
  {
   "cell_type": "code",
   "execution_count": 210,
   "source": [
    "df_train_fn['Solubility'] = train_set['Solubility']\n",
    "df_test_fn['Solubility'] = test_set['Solubility']"
   ],
   "outputs": [],
   "metadata": {}
  },
  {
   "cell_type": "code",
   "execution_count": 211,
   "source": [
    "### Saving the functional group to the disk \n",
    "df_train_fn.to_csv('data/df_train_fg.csv')\n",
    "df_test_fn.to_csv('data/df_test_fg.csv') "
   ],
   "outputs": [],
   "metadata": {}
  },
  {
   "cell_type": "code",
   "execution_count": 212,
   "source": [
    "plt.figure(figsize=(8, 6))\n",
    "for group, color in zip(functional_groups.keys(), ['r', 'g', 'b', 'c', 'm', 'y']):\n",
    "    group_data = df_train_fn[df_train_fn[group] == 1]\n",
    "    plt.scatter(group_data['Solubility'], [group]*len(group_data), color=color, label=group)    \n",
    "plt.xlabel('Solubility')\n",
    "plt.ylabel('Functional Groups')\n",
    "plt.title('Solubility vs. Functional Groups')\n",
    "#plt.legend()\n",
    "plt.show()"
   ],
   "outputs": [
    {
     "output_type": "display_data",
     "data": {
      "image/png": "[encoded data removed]",
      "text/plain": [
       "<Figure size 576x432 with 1 Axes>"
      ]
     },
     "metadata": {
      "needs_background": "light"
     }
    }
   ],
   "metadata": {}
  },
  {
   "cell_type": "code",
   "execution_count": 213,
   "source": [
    "# Create a list of functional groups\n",
    "\n",
    "functional_groups = df_train_fn.columns[1:-1]\n",
    "# Count the occurrence of each functional group\n",
    "group_counts = df_train_fn[functional_groups].sum()\n"
   ],
   "outputs": [],
   "metadata": {}
  },
  {
   "cell_type": "code",
   "execution_count": 214,
   "source": [
    "### Distribution of the funtional group in the train dataset along with solubility values \n",
    "import matplotlib.pyplot as plt\n",
    "import pandas as pd\n",
    "import numpy as np\n",
    "\n",
    "df_train_fn.columns = df_train_fn.columns.astype(str)\n",
    "\n",
    "# Compute counts of each functional group\n",
    "\n",
    "# Plot the bar plot for functional group counts\n",
    "fig, ax = plt.subplots()\n",
    "ax.bar(functional_groups, group_counts)\n",
    "\n",
    "# Customize the plot\n",
    "ax.set_xlabel('Functional Group', fontsize=12)\n",
    "ax.set_ylabel('Count', fontsize=12)\n",
    "ax.set_title('Functional Group Counts', fontsize=14)\n",
    "ax.tick_params(axis='x', rotation=45)\n",
    "\n",
    "# Show the bar plot\n",
    "plt.show()\n",
    "\n",
    "# Plot the scatter plot for solubility vs functional groups\n",
    "fig, ax = plt.subplots()\n",
    "for group in functional_groups:\n",
    "    ax.scatter(df_train_fn[group], df_train_fn['Solubility'], label=group, alpha=0.5)\n",
    "\n",
    "# Customize the plot\n",
    "ax.set_xlabel('Functional Group', fontsize=12)\n",
    "ax.set_ylabel('Solubility', fontsize=12)\n",
    "ax.set_title('Solubility vs Functional Groups', fontsize=14)\n",
    "ax.legend(fontsize=10)\n",
    "\n",
    "# Show the scatter plot\n",
    "plt.show()"
   ],
   "outputs": [
    {
     "output_type": "display_data",
     "data": {
      "image/png": "[encoded data removed]",
      "text/plain": [
       "<Figure size 432x288 with 1 Axes>"
      ]
     },
     "metadata": {
      "needs_background": "light"
     }
    },
    {
     "output_type": "display_data",
     "data": {
      "image/png": "[encoded data removed]",
      "text/plain": [
       "<Figure size 432x288 with 1 Axes>"
      ]
     },
     "metadata": {
      "needs_background": "light"
     }
    }
   ],
   "metadata": {}
  },
  {
   "cell_type": "code",
   "execution_count": 215,
   "source": [
    "import seaborn as sns\n",
    "import matplotlib.pyplot as plt\n",
    "\n",
    "# Create a strip plot\n",
    "plt.figure(figsize=(20,9))\n",
    "handles = []  # To store legend handles\n",
    "labels = []   # To store legend labels\n",
    "fig, ax = plt.subplots()\n",
    "for group in functional_groups:\n",
    "    ax.scatter(df_train_fn[group], df_train_fn['Solubility'], label=group, alpha=0.5)\n",
    "#plt.figure(figsize=(10, 6))\n",
    "for group in functional_groups:\n",
    "    strip = sns.stripplot(data=df_train_fn, x=df_train_fn[group], y=train_set['Solubility'], jitter=True)\n",
    "    handles.append(strip.collections[1])  # Get the handle for the stripplot\n",
    "    labels.append(group)\n",
    "\n",
    "# Customize the plot\n",
    "plt.xlabel('Functional Group', fontsize=12)\n",
    "plt.ylabel('Solubility', fontsize=12)\n",
    "plt.title('Solubility vs Functional Groups', fontsize=14)\n",
    "plt.xticks(rotation=45)\n",
    "\n",
    "# Add a legend\n",
    "plt.legend(handles, labels, title='Functional Groups')\n",
    "ax.legend(fontsize=10)\n",
    "plt.tight_layout()\n",
    "\n",
    "# Show the plot\n",
    "plt.show()"
   ],
   "outputs": [
    {
     "output_type": "display_data",
     "data": {
      "text/plain": [
       "<Figure size 1440x648 with 0 Axes>"
      ]
     },
     "metadata": {}
    },
    {
     "output_type": "display_data",
     "data": {
      "image/png": "[encoded data removed]",
      "text/plain": [
       "<Figure size 432x288 with 1 Axes>"
      ]
     },
     "metadata": {
      "needs_background": "light"
     }
    }
   ],
   "metadata": {}
  },
  {
   "cell_type": "code",
   "execution_count": 216,
   "source": [
    "import matplotlib.pyplot as plt\n",
    "import seaborn as sns\n",
    "\n",
    "fig, axes = plt.subplots(nrows=2, ncols=2, figsize=(12, 8))\n",
    "plt.rc('font', size=12)\n",
    "\n",
    "# Top row - Distribution plots\n",
    "sns.distplot(train_set['Solubility'], ax=axes[0, 0], color='navy')\n",
    "axes[0, 0].set_title('Train data Solubility ')\n",
    "\n",
    "sns.distplot(test_set['Solubility'], ax=axes[0, 1])\n",
    "axes[0, 1].set_title('Test data Solubility')\n",
    "\n",
    "#sns.distplot(train_set['Solubility'], ax=axes[0, 2], color='green')\n",
    "#axes[0, 2].set_title('logS')\n",
    "\n",
    "# Bottom row - Boxplots\n",
    "sns.boxplot(y=train_set['Solubility'], ax=axes[1, 0], color='navy')\n",
    "sns.boxplot(y=test_set['Solubility'], ax=axes[1, 1])\n",
    "#sns.boxplot(y=solubility['logS'], ax=axes[1, 2],color='green')\n",
    "\n",
    "plt.tight_layout()\n",
    "plt.show()\n",
    "\n"
   ],
   "outputs": [
    {
     "output_type": "display_data",
     "data": {
      "image/png": "[encoded data removed]",
      "text/plain": [
       "<Figure size 864x576 with 4 Axes>"
      ]
     },
     "metadata": {
      "needs_background": "light"
     }
    }
   ],
   "metadata": {}
  },
  {
   "cell_type": "code",
   "execution_count": 217,
   "source": [
    "from rdkit import Chem\n",
    "from rdkit.Chem import Descriptors\n",
    "\n",
    "def calculate_molecular_weight(smiles):\n",
    "    \"\"\"\n",
    "    Calculate the molecular weight from SMILES notation.\n",
    "\n",
    "    Args:\n",
    "    - smiles (str): SMILES notation of the molecule.\n",
    "\n",
    "    Returns:\n",
    "    - mol_weight (float): Molecular weight of the molecule.\n",
    "    \"\"\"\n",
    "    # Attempt to parse the SMILES notation and generate a molecule object\n",
    "    mol = Chem.MolFromSmiles(smiles)\n",
    "    \n",
    "    # Check if parsing was successful\n",
    "    if mol is not None:\n",
    "        # Calculate the molecular weight\n",
    "        mol_weight = Descriptors.MolWt(mol)\n",
    "        return mol_weight\n",
    "    else:\n",
    "        # Return None if parsing fails\n",
    "        return None\n"
   ],
   "outputs": [],
   "metadata": {}
  },
  {
   "cell_type": "code",
   "execution_count": 218,
   "source": [
    "df_train_fn['MolecularWeight'] = df_train_fn['SMILES'].apply(calculate_molecular_weight)\n",
    "df_test_fn['MolecularWeight'] = df_test_fn['SMILES'].apply(calculate_molecular_weight)\n",
    "\n"
   ],
   "outputs": [],
   "metadata": {}
  },
  {
   "cell_type": "code",
   "execution_count": 219,
   "source": [
    "import matplotlib.pyplot as plt\n",
    "import seaborn as sns\n",
    "\n",
    "fig, axes = plt.subplots(nrows=2, ncols=2, figsize=(12, 8))\n",
    "plt.rc('font', size=12)\n",
    "\n",
    "# Top row - Distribution plots\n",
    "sns.distplot(df_train_fn['MolecularWeight'], ax=axes[0, 0], color='navy')\n",
    "axes[0, 0].set_title('Train data Molecular Weight ')\n",
    "\n",
    "sns.distplot(df_test_fn['MolecularWeight'], ax=axes[0, 1])\n",
    "axes[0, 1].set_title('Test data Molecular Weight')\n",
    "\n",
    "#sns.distplot(train_set['Solubility'], ax=axes[0, 2], color='green')\n",
    "#axes[0, 2].set_title('logS')\n",
    "\n",
    "# Bottom row - Boxplots\n",
    "sns.boxplot(y=df_train_fn['MolecularWeight'], ax=axes[1, 0], color='navy')\n",
    "sns.boxplot(y=df_test_fn['MolecularWeight'], ax=axes[1, 1])\n",
    "#sns.boxplot(y=solubility['logS'], ax=axes[1, 2],color='green')\n",
    "\n",
    "plt.tight_layout()\n",
    "plt.show()\n"
   ],
   "outputs": [
    {
     "output_type": "display_data",
     "data": {
      "image/png": "[encoded data removed]",
      "text/plain": [
       "<Figure size 864x576 with 4 Axes>"
      ]
     },
     "metadata": {
      "needs_background": "light"
     }
    }
   ],
   "metadata": {}
  },
  {
   "cell_type": "markdown",
   "source": [
    "### More feature engineering\n",
    "### Now, we will use the information about the chemical structure of molecules available through the variable Formula to generate new features that can affect aqueous solubility of a molecule.\n",
    "\n",
    "## Charge\n",
    "## One can assume that charged molcules should have higher solubility in water since water is a polar sovent. Charged molecules contain regions with positive charge and an equal amount of negatively charged regions in order to resulting ## charge to be 0."
   ],
   "metadata": {}
  },
  {
   "cell_type": "code",
   "execution_count": 220,
   "source": [
    "### Finding the charge in train data \n",
    "charge_train=[]\n",
    "\n",
    "for i in range(16626):\n",
    "    if train_set['smiles_canon'][i].find('+')!=-1:\n",
    "        charge_train.append(1)\n",
    "    elif train_set['smiles_canon'][i].find('-')!=-1:\n",
    "        charge_train.append(-1)\n",
    "    else:\n",
    "        charge_train.append(0)\n",
    "train_set['charge']=charge_train\n",
    "\n",
    "### Finding the charge in test data \n",
    "charge_test=[]\n",
    "\n",
    "for i in range(1282):\n",
    "    if test_set['smiles_canon'][i].find('+')!=-1:\n",
    "        charge_test.append(1)\n",
    "    elif test_set['smiles_canon'][i].find('-')!=-1:\n",
    "        charge_test.append(-1)\n",
    "    else:\n",
    "        charge_test.append(0)\n",
    "test_set['charge']=charge_test\n",
    "\n",
    "\n",
    "print('The number of charged and uncharged molecules in the Train data :')\n",
    "print(train_set['charge'].value_counts())\n",
    "print('The number of charged and uncharged molecules in the Test data :')\n",
    "print(test_set['charge'].value_counts())\n"
   ],
   "outputs": [
    {
     "output_type": "stream",
     "name": "stdout",
     "text": [
      "The number of charged and uncharged molecules in the Train data :\n",
      " 0    13832\n",
      " 1     2216\n",
      "-1      578\n",
      "Name: charge, dtype: int64\n",
      "The number of charged and uncharged molecules in the Test data :\n",
      " 0    1144\n",
      "-1      93\n",
      " 1      45\n",
      "Name: charge, dtype: int64\n"
     ]
    }
   ],
   "metadata": {}
  },
  {
   "cell_type": "code",
   "execution_count": 221,
   "source": [
    "import matplotlib.pyplot as plt\n",
    "import seaborn as sns\n",
    "\n",
    "# Create a figure with two subplots side by side\n",
    "fig, axes = plt.subplots(1, 2, figsize=(12, 6))\n",
    "\n",
    "# Plotting for training data\n",
    "sns.boxplot(x='charge', y='Solubility', data=train_set, ax=axes[0])\n",
    "axes[0].set_title('Training Data: Solubility and Molecule Charge')\n",
    "axes[0].set_ylabel('Log S (Solubility)')\n",
    "axes[0].set_xlabel('Charge')\n",
    "\n",
    "# Plotting for test data\n",
    "sns.boxplot(x='charge', y='Solubility', data=test_set, ax=axes[1])\n",
    "axes[1].set_title('Test Data: Solubility and Molecule Charge')\n",
    "axes[1].set_ylabel('Log S (Solubility)')\n",
    "axes[1].set_xlabel('Charge')\n",
    "\n",
    "# Adjust layout\n",
    "plt.tight_layout()\n",
    "\n",
    "# Show the plot\n",
    "plt.show()\n"
   ],
   "outputs": [
    {
     "output_type": "display_data",
     "data": {
      "image/png": "[encoded data removed]",
      "text/plain": [
       "<Figure size 864x432 with 2 Axes>"
      ]
     },
     "metadata": {
      "needs_background": "light"
     }
    }
   ],
   "metadata": {}
  },
  {
   "cell_type": "code",
   "execution_count": 222,
   "source": [
    "#It looks like substances' charge does not affect solubility much.\n",
    "double_bonds_train=[]\n",
    "\n",
    "for i in range(16626):\n",
    "    if train_set['smiles_canon'][i].count('=')>4:\n",
    "        double_bonds_train.append(1)\n",
    "    else:\n",
    "        double_bonds_train.append(0)\n",
    "        \n",
    "train_set['many_double_bonds']=double_bonds_train\n",
    "\n",
    "double_bonds_test=[]\n",
    "\n",
    "for i in range(1282):\n",
    "    if test_set['smiles_canon'][i].count('=')>4:\n",
    "        double_bonds_test.append(1)\n",
    "    else:\n",
    "        double_bonds_test.append(0)\n",
    "        \n",
    "test_set['many_double_bonds']=double_bonds_test\n",
    "\n"
   ],
   "outputs": [],
   "metadata": {}
  },
  {
   "cell_type": "code",
   "execution_count": 132,
   "source": [
    "import matplotlib.pyplot as plt\n",
    "import seaborn as sns\n",
    "\n",
    "# Create a figure with two subplots side by side\n",
    "fig, axes = plt.subplots(1, 2, figsize=(12, 6))\n",
    "\n",
    "# Plotting for training data\n",
    "sns.boxplot(x='many_double_bonds', y='Solubility', data=train_set, ax=axes[0])\n",
    "axes[0].set_title('Solubility and Double Bonds-Train_data')\n",
    "axes[0].set_ylabel('Log S (Solubility)')\n",
    "axes[0].set_xlabel('Double Bonds')\n",
    "\n",
    "# Plotting for test data\n",
    "sns.boxplot(x='many_double_bonds', y='Solubility', data=test_set, ax=axes[1])\n",
    "axes[1].set_title('Solubility and Double Bonds-Test_data')\n",
    "axes[1].set_ylabel('Log S (Solubility)')\n",
    "axes[1].set_xlabel('Double Bonds')\n",
    "\n",
    "# Adjust layout\n",
    "plt.tight_layout()\n",
    "\n",
    "# Show the plot\n",
    "plt.show()\n"
   ],
   "outputs": [
    {
     "output_type": "display_data",
     "data": {
      "image/png": "[encoded data removed]",
      "text/plain": [
       "<Figure size 864x432 with 2 Axes>"
      ]
     },
     "metadata": {
      "needs_background": "light"
     }
    }
   ],
   "metadata": {}
  },
  {
   "cell_type": "markdown",
   "source": [
    "### We can infer that among the molecules with 5 and more double bonds, the proportion of soluble molecules is lower as compared to molecules with lower amount of double bonds."
   ],
   "metadata": {}
  },
  {
   "cell_type": "code",
   "execution_count": 133,
   "source": [
    "def get_atom_degrees(smiles):\n",
    "\n",
    "    mol = Chem.MolFromSmiles(smiles)\n",
    "    mol = Chem.AddHs(mol)\n",
    "\n",
    "    \n",
    "    bonds = mol.GetBonds()\n",
    "\n",
    "    sum_degree_vector = np.zeros(7)\n",
    "\n",
    "  # Iterate over each bond and retrieve the connected atom information\n",
    "    for bond in bonds:\n",
    "        atom1 = bond.GetBeginAtom()  # First atom in the bond\n",
    "        atom2 = bond.GetEndAtom()  # Second atom in the bond\n",
    "\n",
    "        # Create one-hot encoded vectors for atom1\n",
    "        atom_degree_vector = np.array([1 if atom1.GetDegree() == d else 0 for d in range(7)]) # 7-length one-hot vector\n",
    "\n",
    "        sum_degree_vector+=atom_degree_vector\n",
    "        # Create one-hot encoded vectors for atom2\n",
    "        atom_degree_vector = np.array([1 if atom2.GetDegree() == d else 0 for d in range(7)])# 7-length one-hot vector\n",
    "      \n",
    "        sum_degree_vector+=atom_degree_vector\n",
    "\n",
    "    return np.round(sum_degree_vector).astype(int) # 7-length vector\n"
   ],
   "outputs": [],
   "metadata": {}
  },
  {
   "cell_type": "code",
   "execution_count": 226,
   "source": [
    "### Removing unwanted comlumn from dataframe\n",
    "train_set=train_set[['smiles_canon','Solubility','charge','many_double_bonds']]\n",
    "test_set=test_set[['smiles_canon','Solubility','charge','many_double_bonds']]"
   ],
   "outputs": [],
   "metadata": {}
  },
  {
   "cell_type": "code",
   "execution_count": 227,
   "source": [
    "initial_columns_train=train_set.columns.tolist()\n",
    "initial_columns_test=test_set.columns.tolist()\n",
    "train_set['degree_features'] = train_set['smiles_canon'].apply(lambda x: get_atom_degrees(x))\n",
    "test_set['degree_features'] = test_set['smiles_canon'].apply(lambda x: get_atom_degrees(x))\n",
    "\n",
    "atom_degree_labels=['atoms_degree_0','atoms_degree_1','atoms_degree_2','atoms_degree_3',\n",
    "                    'atoms_degree_4','atoms_degree_5','atoms_degree_6']\n"
   ],
   "outputs": [],
   "metadata": {}
  },
  {
   "cell_type": "code",
   "execution_count": 151,
   "source": [
    "def split_list_to_columns(col_name,row):\n",
    "    return pd.Series(row[col_name])"
   ],
   "outputs": [],
   "metadata": {}
  },
  {
   "cell_type": "code",
   "execution_count": 228,
   "source": [
    "col_name='degree_features'\n",
    "\n",
    "# Split the \"features\" column and keep other columns\n",
    "\n",
    "df_atom_degree_train = train_set.join(train_set.apply(lambda row: split_list_to_columns(col_name,row), axis=1))\n",
    "df_atom_degree_test = test_set.join(test_set.apply(lambda row: split_list_to_columns(col_name,row), axis=1))\n",
    "\n",
    "df_atom_degree_train = df_atom_degree_train.drop(col_name, axis=1)\n",
    "df_atom_degree_test = df_atom_degree_test.drop(col_name, axis=1)\n",
    "\n",
    "df_atom_degree_train.columns = initial_columns_train+atom_degree_labels\n",
    "df_atom_degree_test.columns = initial_columns_test+atom_degree_labels  \n"
   ],
   "outputs": [],
   "metadata": {}
  },
  {
   "cell_type": "code",
   "execution_count": 231,
   "source": [
    "def get_atom_valences(smiles):\n",
    "\n",
    "    mol = Chem.MolFromSmiles(smiles)\n",
    "    mol = Chem.AddHs(mol)\n",
    "\n",
    "    \n",
    "    bonds = mol.GetBonds()\n",
    "\n",
    "    sum_valence_vector = np.zeros(7)\n",
    "\n",
    "  # Iterate over each bond and retrieve the connected atom information\n",
    "    for bond in bonds:\n",
    "        atom1 = bond.GetBeginAtom()  # First atom in the bond\n",
    "        atom2 = bond.GetEndAtom()  # Second atom in the bond\n",
    "\n",
    "        # Create one-hot encoded vectors for atom1\n",
    "        atom_valence_vector = np.array([1 if atom1.GetTotalValence() == v else 0 for v in range(7)])  # 7-length one-hot vector\n",
    "\n",
    "        sum_valence_vector+=atom_valence_vector\n",
    "        # Create one-hot encoded vectors for atom2\n",
    "        atom_valence_vector = np.array([1 if atom2.GetTotalValence() == v else 0 for v in range(7)]) # 7-length one-hot vector\n",
    "      \n",
    "        sum_valence_vector+=atom_valence_vector\n",
    "\n",
    "    return np.round(sum_valence_vector).astype(int) # 7-length vector\n"
   ],
   "outputs": [],
   "metadata": {}
  },
  {
   "cell_type": "code",
   "execution_count": 232,
   "source": [
    "initial_columns_train=df_atom_degree_train.columns.tolist()\n",
    "initial_columns_test=df_atom_degree_test.columns.tolist()\n",
    "df_atom_degree_train['valence_features'] = train_set['smiles_canon'].apply(lambda x: get_atom_valences(x))\n",
    "df_atom_degree_test['valence_features'] = test_set['smiles_canon'].apply(lambda x: get_atom_valences(x))\n",
    "atom_valence_labels=['atoms_valence_0','atoms_valence_1','atoms_valence_2','atoms_valence_3',\n",
    "                    'atoms_valence_4','atoms_valence_5','atoms_valence_6']\n",
    "col_name='valence_features'\n",
    "\n",
    "# Split the \"features\" column and keep other columns\n",
    "df_atom_valence_train = df_atom_degree_train.join(df_atom_degree_train.apply(lambda row: split_list_to_columns(col_name,row), axis=1))\n",
    "df_atom_valence_test = df_atom_degree_test.join(df_atom_degree_test.apply(lambda row: split_list_to_columns(col_name,row), axis=1))\n",
    "\n",
    "df_atom_valence_train = df_atom_valence_train.drop(col_name, axis=1)\n",
    "df_atom_valence_test = df_atom_valence_test.drop(col_name, axis=1)\n",
    "\n",
    "df_atom_valence_train.columns = initial_columns_train+atom_valence_labels\n",
    "df_atom_valence_test.columns = initial_columns_test+atom_valence_labels  \n",
    "\n"
   ],
   "outputs": [],
   "metadata": {}
  },
  {
   "cell_type": "code",
   "execution_count": 233,
   "source": [
    "hybridizations = [Chem.rdchem.HybridizationType.S, Chem.rdchem.HybridizationType.SP, Chem.rdchem.HybridizationType.SP2, Chem.rdchem.HybridizationType.SP3,\n",
    "                  Chem.rdchem.HybridizationType.SP3D, Chem.rdchem.HybridizationType.SP3D2, Chem.rdchem.HybridizationType.UNSPECIFIED]\n"
   ],
   "outputs": [],
   "metadata": {}
  },
  {
   "cell_type": "code",
   "execution_count": 234,
   "source": [
    "def get_atom_hybridization(smiles):\n",
    "\n",
    "    mol = Chem.MolFromSmiles(smiles)\n",
    "    mol = Chem.AddHs(mol)\n",
    "\n",
    "    \n",
    "    bonds = mol.GetBonds()\n",
    "\n",
    "    sum_hybrid_vector = np.zeros(7)\n",
    "\n",
    "  # Iterate over each bond and retrieve the connected atom information\n",
    "    for bond in bonds:\n",
    "        atom1 = bond.GetBeginAtom()  # First atom in the bond\n",
    "        atom2 = bond.GetEndAtom()  # Second atom in the bond\n",
    "\n",
    "        # Create one-hot encoded vectors for atom1\n",
    "        atom_hybrid_vector = np.array([1 if atom1.GetHybridization() == h else 0 for h in hybridizations])  # 7-length one-hot vector\n",
    "\n",
    "        sum_hybrid_vector+=atom_hybrid_vector\n",
    "        # Create one-hot encoded vectors for atom2\n",
    "        atom_hybrid_vector = np.array([1 if atom2.GetHybridization() == h else 0 for h in hybridizations]) # 7-length one-hot vector\n",
    "      \n",
    "        sum_hybrid_vector+=atom_hybrid_vector\n",
    "\n",
    "    return np.round(sum_hybrid_vector).astype(int) # 7-length vector\n",
    "\n"
   ],
   "outputs": [],
   "metadata": {}
  },
  {
   "cell_type": "code",
   "execution_count": 235,
   "source": [
    "initial_columns_train=df_atom_valence_train.columns.tolist()\n",
    "initial_columns_test=df_atom_valence_test.columns.tolist()\n",
    "df_atom_valence_train['hybridization_features'] = df_atom_valence_train['smiles_canon'].apply(lambda x: get_atom_hybridization(x))\n",
    "df_atom_valence_test['hybridization_features'] = df_atom_valence_test['smiles_canon'].apply(lambda x: get_atom_hybridization(x))\n",
    "hybridization_labels=['atom_hybridization_S','atom_hybridization_SP','atom_hybridization_SP2',\n",
    "                      'atom_hybridization_SP3','atom_hybridization_SP3D','atom_hybridization_SP3D2',\n",
    "                      'atom_hybridization_UNSPECIFIED']"
   ],
   "outputs": [],
   "metadata": {}
  },
  {
   "cell_type": "code",
   "execution_count": 236,
   "source": [
    "col_name='hybridization_features'\n",
    "\n",
    "# Split the \"features\" column and keep other columns\n",
    "df_atom_hybridization_train = df_atom_valence_train.join(df_atom_valence_train.apply(lambda row: split_list_to_columns(col_name,row), axis=1))\n",
    "df_atom_hybridization_test = df_atom_valence_test.join(df_atom_valence_test.apply(lambda row: split_list_to_columns(col_name,row), axis=1))\n",
    "\n",
    "df_atom_hybridization_train = df_atom_hybridization_train.drop(col_name, axis=1)\n",
    "df_atom_hybridization_test = df_atom_hybridization_test.drop(col_name, axis=1)\n",
    "\n",
    "df_atom_hybridization_train.columns = initial_columns_train+hybridization_labels \n",
    "df_atom_hybridization_test.columns = initial_columns_test+hybridization_labels \n"
   ],
   "outputs": [],
   "metadata": {}
  },
  {
   "cell_type": "code",
   "execution_count": 237,
   "source": [
    "def get_atom_aromaticity(smiles):\n",
    "\n",
    "    mol = Chem.MolFromSmiles(smiles)\n",
    "    mol = Chem.AddHs(mol)\n",
    "\n",
    "    \n",
    "    bonds = mol.GetBonds()\n",
    "\n",
    "    sum_aromatic_vector = np.zeros(1)\n",
    "\n",
    "  # Iterate over each bond and retrieve the connected atom information\n",
    "    for bond in bonds:\n",
    "        atom1 = bond.GetBeginAtom()  # First atom in the bond\n",
    "        atom2 = bond.GetEndAtom()  # Second atom in the bond\n",
    "\n",
    "        # Create one-hot encoded vectors for atom1\n",
    "        atom_aromatic_vector = np.array([1 if atom1.GetIsAromatic() else 0]) # 1-length one-hot vector\n",
    "\n",
    "        sum_aromatic_vector+=atom_aromatic_vector\n",
    "        # Create one-hot encoded vectors for atom2\n",
    "        atom_aromatic_vector = np.array([1 if atom2.GetIsAromatic() else 0])# 1-length one-hot vector\n",
    "      \n",
    "        sum_aromatic_vector+=atom_aromatic_vector\n",
    "\n",
    "    return np.round(sum_aromatic_vector).astype(int)[0] # number 0 or 1\n"
   ],
   "outputs": [],
   "metadata": {}
  },
  {
   "cell_type": "code",
   "execution_count": 238,
   "source": [
    "df_atom_hybridization_train['aromatic_atoms'] = df_atom_hybridization_train['smiles_canon'].apply(lambda x: get_atom_aromaticity(x))\n",
    "df_atom_aromaticity_train=df_atom_hybridization_train.copy()\n",
    "df_atom_hybridization_test['aromatic_atoms'] = df_atom_hybridization_test['smiles_canon'].apply(lambda x: get_atom_aromaticity(x))\n",
    "df_atom_aromaticity_test=df_atom_hybridization_test.copy()"
   ],
   "outputs": [],
   "metadata": {}
  },
  {
   "cell_type": "code",
   "execution_count": 239,
   "source": [
    "## Bond Types \n",
    "def get_bond_types(smiles):\n",
    "\n",
    "    mol = Chem.MolFromSmiles(smiles)\n",
    "    mol = Chem.AddHs(mol)\n",
    "\n",
    "    \n",
    "    bonds = mol.GetBonds()\n",
    "\n",
    "    sum_bond_type_vector = np.zeros(5)\n",
    "\n",
    "  # Iterate over each bond and retrieve the connected atom information\n",
    "    for bond in bonds:\n",
    "        \n",
    "        bond_type = bond.GetBondType().name\n",
    "        \n",
    "        bond_type_vector = np.array([1 if t == bond_type else 0 for t in ['SINGLE', 'DOUBLE', 'TRIPLE', 'AROMATIC', 'ZERO']])# 5-length one-hote vector\n",
    "        \n",
    "        sum_bond_type_vector+=bond_type_vector\n",
    "\n",
    "    return np.round(sum_bond_type_vector).astype(int) \n"
   ],
   "outputs": [],
   "metadata": {}
  },
  {
   "cell_type": "code",
   "execution_count": 240,
   "source": [
    "initial_columns_train=df_atom_aromaticity_train.columns.tolist()\n",
    "initial_columns_test=df_atom_aromaticity_test.columns.tolist()\n",
    "df_atom_aromaticity_train['bond_type_features'] = df_atom_aromaticity_train['smiles_canon'].apply(lambda x: get_bond_types(x))\n",
    "df_atom_aromaticity_test['bond_type_features'] = df_atom_aromaticity_test['smiles_canon'].apply(lambda x: get_bond_types(x))\n",
    "bond_type_labels=['single_bonds','double_bonds','triple_bonds','aromatic_bonds','zero_bonds']\n",
    "col_name='bond_type_features'\n",
    "\n",
    "# Split the \"features\" column and keep other columns\n",
    "df_bond_type_train = df_atom_aromaticity_train.join(df_atom_aromaticity_train.apply(lambda row: split_list_to_columns(col_name,row), axis=1))\n",
    "df_bond_type_test = df_atom_aromaticity_test.join(df_atom_aromaticity_test.apply(lambda row: split_list_to_columns(col_name,row), axis=1))\n",
    "\n",
    "\n",
    "\n",
    "df_bond_type_train = df_bond_type_train.drop(col_name, axis=1)\n",
    "df_bond_type_test = df_bond_type_test.drop(col_name, axis=1)\n",
    "\n",
    "df_bond_type_train.columns = initial_columns_train+bond_type_labels \n",
    "df_bond_type_test.columns = initial_columns_test+bond_type_labels\n"
   ],
   "outputs": [],
   "metadata": {}
  },
  {
   "cell_type": "code",
   "execution_count": 242,
   "source": [
    "#Conjugated bonds\n",
    "def is_conjugated(smiles):\n",
    "    \n",
    "    \n",
    "    mol = Chem.MolFromSmiles(smiles)\n",
    "    mol = Chem.AddHs(mol)\n",
    "\n",
    "    # Get all bonds in the molecule\n",
    "    bonds = mol.GetBonds()\n",
    "    \n",
    "    sum_conjugated = np.zeros(1)\n",
    "    \n",
    "    for bond in bonds:\n",
    "        \n",
    "        is_conjugated=1 if bond.GetIsConjugated() else 0\n",
    "        conjugation_vector = np.array([is_conjugated])\n",
    "        \n",
    "        sum_conjugated+=conjugation_vector\n",
    "        \n",
    "    return np.round(sum_conjugated).astype(int)[0]\n"
   ],
   "outputs": [],
   "metadata": {}
  },
  {
   "cell_type": "code",
   "execution_count": 243,
   "source": [
    "df_bond_type_train['conjugated_bonds'] = df_bond_type_train['smiles_canon'].apply(lambda x: is_conjugated(x))\n",
    "df_conjugated_bonds_train=df_bond_type_train.copy()\n",
    "df_bond_type_test['conjugated_bonds'] = df_bond_type_test['smiles_canon'].apply(lambda x: is_conjugated(x))\n",
    "df_conjugated_bonds_test=df_bond_type_test.copy()"
   ],
   "outputs": [],
   "metadata": {}
  },
  {
   "cell_type": "code",
   "execution_count": 244,
   "source": [
    "##Bonds in ring\n",
    "def is_in_ring(smiles):\n",
    "    \n",
    "    \n",
    "    mol = Chem.MolFromSmiles(smiles)\n",
    "    mol = Chem.AddHs(mol)\n",
    "\n",
    "    # Get all bonds in the molecule\n",
    "    bonds = mol.GetBonds()\n",
    "    \n",
    "    sum_in_ring = np.zeros(1)\n",
    "    \n",
    "    for bond in bonds:\n",
    "        \n",
    "        is_in_ring=1 if bond.IsInRing() else 0\n",
    "        in_ring_vector = np.array([is_in_ring])\n",
    "        \n",
    "        sum_in_ring+=in_ring_vector\n",
    "        \n",
    "    return np.round(sum_in_ring).astype(int)[0]\n",
    "\n"
   ],
   "outputs": [],
   "metadata": {}
  },
  {
   "cell_type": "code",
   "execution_count": 245,
   "source": [
    "df_conjugated_bonds_train['bonds_in_ring'] = df_conjugated_bonds_train['smiles_canon'].apply(lambda x: is_in_ring(x))\n",
    "df_bonds_in_ring_train=df_conjugated_bonds_train.copy()\n",
    "df_conjugated_bonds_test['bonds_in_ring'] = df_conjugated_bonds_test['smiles_canon'].apply(lambda x: is_in_ring(x))\n",
    "df_bonds_in_ring_test=df_conjugated_bonds_test.copy()"
   ],
   "outputs": [],
   "metadata": {}
  },
  {
   "cell_type": "code",
   "execution_count": 246,
   "source": [
    "#Bond chirality\n",
    "#The bond.GetStereo() method typically returns one of the following values:\n",
    "\n",
    "#Chem.rdchem.BondStereo.STEREONONE: This indicates that the bond has no defined stereochemistry, meaning there is no specific spatial arrangement of substituents around the bond that results in different stereoisomers.\n",
    "\n",
    "#Chem.rdchem.BondStereo.STEREOANY: This indicates that the bond is considered a stereo bond, but its stereochemistry is not specified. It means that the bond could potentially have stereoisomers, but their configurations are not defined or are flexible.\n",
    "\n",
    "#Chem.rdchem.BondStereo.STEREOZ and Chem.rdchem.BondStereo.STEREOE: These values are used to specify the stereochemistry of double bonds (alkene bonds).\n",
    "\n",
    "#STEREOZ indicates a \"cis\" configuration where substituents on the same side of the double bond. STEREOE indicates a \"trans\" configuration where substituents are on opposite sides of the double bond.\n",
    "\n",
    "def get_bond_chirality(smiles):\n",
    "    \n",
    "    \n",
    "    mol = Chem.MolFromSmiles(smiles)\n",
    "    mol = Chem.AddHs(mol)\n",
    "\n",
    "    # Get all bonds in the molecule\n",
    "    bonds = mol.GetBonds()\n",
    "    \n",
    "    sum_chirality = np.zeros(4)\n",
    "    \n",
    "    for bond in bonds:\n",
    "        \n",
    "        # Chirality (0: None, 1: CW, 2: CCW, 3: Either)\n",
    "        chirality = bond.GetStereo()\n",
    "        \n",
    "        chirality_vector=np.array([1 if chirality == c else 0 for c in [Chem.rdchem.BondStereo.STEREONONE,\n",
    "                                                                          Chem.rdchem.BondStereo.STEREOANY,\n",
    "                                                                          Chem.rdchem.BondStereo.STEREOZ,\n",
    "                                                                          Chem.rdchem.BondStereo.STEREOE]])\n",
    "        \n",
    "        sum_chirality+=chirality_vector\n",
    "        \n",
    "    return np.round(sum_chirality).astype(int)\n",
    "  \n"
   ],
   "outputs": [],
   "metadata": {}
  },
  {
   "cell_type": "code",
   "execution_count": 247,
   "source": [
    "initial_columns_train=df_bonds_in_ring_train.columns.tolist()\n",
    "initial_columns_test=df_bonds_in_ring_test.columns.tolist()"
   ],
   "outputs": [],
   "metadata": {}
  },
  {
   "cell_type": "code",
   "execution_count": 248,
   "source": [
    "initial_columns_train=df_bonds_in_ring_train.columns.tolist()\n",
    "initial_columns_test=df_bonds_in_ring_test.columns.tolist()\n",
    "df_bonds_in_ring_train['chirality_features'] = df_bonds_in_ring_train['smiles_canon'].apply(lambda x: get_bond_chirality(x))\n",
    "df_bonds_in_ring_test['chirality_features'] = df_bonds_in_ring_test['smiles_canon'].apply(lambda x: get_bond_chirality(x))\n",
    "chirality_labels=['chirality_none','chirality_any','chirality_z','chirality_e']\n",
    "col_name='chirality_features'\n",
    "\n",
    "# Split the \"features\" column and keep other columns\n",
    "df_bond_chirality_train = df_bonds_in_ring_train.join(df_bonds_in_ring_train.apply(lambda row: split_list_to_columns(col_name,row), axis=1))\n",
    "df_bond_chirality_test = df_bonds_in_ring_test.join(df_bonds_in_ring_test.apply(lambda row: split_list_to_columns(col_name,row), axis=1))\n",
    "\n",
    "df_bond_chirality_train= df_bond_chirality_train.drop(col_name, axis=1)\n",
    "df_bond_chirality_test= df_bond_chirality_test.drop(col_name, axis=1)\n",
    "\n",
    "df_bond_chirality_train.columns = initial_columns_train+chirality_labels \n",
    "df_bond_chirality_test.columns = initial_columns_test+chirality_labels "
   ],
   "outputs": [],
   "metadata": {}
  },
  {
   "cell_type": "code",
   "execution_count": 249,
   "source": [
    "#Number of atoms\n",
    "def get_n_atoms(smiles):\n",
    "    \n",
    "    mol = Chem.MolFromSmiles(smiles)\n",
    "    mol = Chem.AddHs(mol)\n",
    "    \n",
    "    n_atoms=mol.GetNumAtoms()\n",
    "    \n",
    "    return n_atoms \n",
    "def get_n_bonds(smiles):\n",
    "    \n",
    "    mol = Chem.MolFromSmiles(smiles)\n",
    "    mol = Chem.AddHs(mol)\n",
    "    \n",
    "    n_bonds=mol.GetNumBonds()\n",
    "    \n",
    "    return n_bonds    "
   ],
   "outputs": [],
   "metadata": {}
  },
  {
   "cell_type": "code",
   "execution_count": 250,
   "source": [
    "df_final_train=df_bond_chirality_train.copy()\n",
    "df_final_test=df_bond_chirality_test.copy()\n",
    "df_final_train['n_atoms']=df_final_train['smiles_canon'].apply(lambda x: get_n_atoms(x))\n",
    "df_final_test['n_atoms']=df_final_test['smiles_canon'].apply(lambda x: get_n_atoms(x))\n",
    "#Number of bonds\n",
    "def get_n_bonds(smiles):\n",
    "    \n",
    "    mol = Chem.MolFromSmiles(smiles)\n",
    "    mol = Chem.AddHs(mol)\n",
    "    \n",
    "    n_bonds=mol.GetNumBonds()\n",
    "    \n",
    "    return n_bonds\n",
    "df_final_train['n_bonds']=df_final_train['smiles_canon'].apply(lambda x: get_n_bonds(x))\n",
    "df_final_test['n_bonds']=df_final_test['smiles_canon'].apply(lambda x: get_n_bonds(x))\n"
   ],
   "outputs": [],
   "metadata": {}
  },
  {
   "cell_type": "code",
   "execution_count": 251,
   "source": [
    "#Number of rings\n",
    "#'Chem.GetSymmSSSR(mol): This function, GetSymmSSSR, is used to identify and retrieve the symmetrically distinct smallest set of smallest rings in a molecule (mol). SSSR refers to a collection of rings in a molecule where each ring is as small as possible and where no two rings share an identical set of atoms.\n",
    "\n",
    "#len(...): This is the Python len function, which is used to determine the length (i.e., the number of elements) of a given sequence or container, in this case, the list of symmetrically distinct rings returned by Chem.GetSymmSSSR(mol).\n",
    "\n",
    "#So, len(Chem.GetSymmSSSR(mol)) calculates and returns the count of symmetrically distinct rings in the molecule mol. This information can be useful for understanding the molecular structure, aromaticity, and other properties of the molecule, as rings play a significant role in organic chemistry and chemical analysis.\n",
    "\n",
    "def get_n_rings(smiles):\n",
    "    \n",
    "    mol = Chem.MolFromSmiles(smiles)\n",
    "    mol = Chem.AddHs(mol)\n",
    "    \n",
    "    n_rings=len(Chem.GetSymmSSSR(mol))\n",
    "    \n",
    "    return n_rings\n",
    "df_final_train['n_rings']=df_final_train['smiles_canon'].apply(lambda x: get_n_rings(x))\n",
    "df_final_test['n_rings']=df_final_test['smiles_canon'].apply(lambda x: get_n_rings(x))\n"
   ],
   "outputs": [],
   "metadata": {}
  },
  {
   "cell_type": "code",
   "execution_count": 254,
   "source": [
    "df_final_train_copy = df_final_train.copy()\n",
    "df_final_test_copy = df_final_test.copy()\n"
   ],
   "outputs": [],
   "metadata": {}
  },
  {
   "cell_type": "code",
   "execution_count": 256,
   "source": [
    "df_final_train"
   ],
   "outputs": [
    {
     "output_type": "execute_result",
     "data": {
      "text/html": [
       "<div>\n",
       "<style scoped>\n",
       "    .dataframe tbody tr th:only-of-type {\n",
       "        vertical-align: middle;\n",
       "    }\n",
       "\n",
       "    .dataframe tbody tr th {\n",
       "        vertical-align: top;\n",
       "    }\n",
       "\n",
       "    .dataframe thead th {\n",
       "        text-align: right;\n",
       "    }\n",
       "</style>\n",
       "<table border=\"1\" class=\"dataframe\">\n",
       "  <thead>\n",
       "    <tr style=\"text-align: right;\">\n",
       "      <th></th>\n",
       "      <th>smiles_canon</th>\n",
       "      <th>Solubility</th>\n",
       "      <th>charge</th>\n",
       "      <th>many_double_bonds</th>\n",
       "      <th>atoms_degree_0</th>\n",
       "      <th>atoms_degree_1</th>\n",
       "      <th>atoms_degree_2</th>\n",
       "      <th>atoms_degree_3</th>\n",
       "      <th>atoms_degree_4</th>\n",
       "      <th>atoms_degree_5</th>\n",
       "      <th>...</th>\n",
       "      <th>zero_bonds</th>\n",
       "      <th>conjugated_bonds</th>\n",
       "      <th>bonds_in_ring</th>\n",
       "      <th>chirality_none</th>\n",
       "      <th>chirality_any</th>\n",
       "      <th>chirality_z</th>\n",
       "      <th>chirality_e</th>\n",
       "      <th>n_atoms</th>\n",
       "      <th>n_bonds</th>\n",
       "      <th>n_rings</th>\n",
       "    </tr>\n",
       "  </thead>\n",
       "  <tbody>\n",
       "    <tr>\n",
       "      <th>0</th>\n",
       "      <td>O=C1c2ccccc2C(=O)c2c(Cl)cccc21</td>\n",
       "      <td>-5.540000</td>\n",
       "      <td>0</td>\n",
       "      <td>0</td>\n",
       "      <td>0</td>\n",
       "      <td>10</td>\n",
       "      <td>0</td>\n",
       "      <td>42</td>\n",
       "      <td>0</td>\n",
       "      <td>0</td>\n",
       "      <td>...</td>\n",
       "      <td>0</td>\n",
       "      <td>18</td>\n",
       "      <td>16</td>\n",
       "      <td>26</td>\n",
       "      <td>0</td>\n",
       "      <td>0</td>\n",
       "      <td>0</td>\n",
       "      <td>24</td>\n",
       "      <td>26</td>\n",
       "      <td>3</td>\n",
       "    </tr>\n",
       "    <tr>\n",
       "      <th>1</th>\n",
       "      <td>NC(N)=NS(=O)(=O)c1ccc(N)cc1</td>\n",
       "      <td>-1.984970</td>\n",
       "      <td>0</td>\n",
       "      <td>0</td>\n",
       "      <td>0</td>\n",
       "      <td>12</td>\n",
       "      <td>2</td>\n",
       "      <td>30</td>\n",
       "      <td>4</td>\n",
       "      <td>0</td>\n",
       "      <td>...</td>\n",
       "      <td>0</td>\n",
       "      <td>10</td>\n",
       "      <td>6</td>\n",
       "      <td>24</td>\n",
       "      <td>0</td>\n",
       "      <td>0</td>\n",
       "      <td>0</td>\n",
       "      <td>24</td>\n",
       "      <td>24</td>\n",
       "      <td>1</td>\n",
       "    </tr>\n",
       "    <tr>\n",
       "      <th>2</th>\n",
       "      <td>CCC1C(N)CN1c1cc2c(cc1F)c(=O)c(C(=O)O)cn2C1CC1</td>\n",
       "      <td>-3.912000</td>\n",
       "      <td>0</td>\n",
       "      <td>0</td>\n",
       "      <td>0</td>\n",
       "      <td>23</td>\n",
       "      <td>2</td>\n",
       "      <td>39</td>\n",
       "      <td>32</td>\n",
       "      <td>0</td>\n",
       "      <td>...</td>\n",
       "      <td>0</td>\n",
       "      <td>16</td>\n",
       "      <td>18</td>\n",
       "      <td>48</td>\n",
       "      <td>0</td>\n",
       "      <td>0</td>\n",
       "      <td>0</td>\n",
       "      <td>45</td>\n",
       "      <td>48</td>\n",
       "      <td>4</td>\n",
       "    </tr>\n",
       "    <tr>\n",
       "      <th>3</th>\n",
       "      <td>CCC1(CC)OC(=O)c2cc([N+](=O)[O-])ccc21</td>\n",
       "      <td>-3.656000</td>\n",
       "      <td>1</td>\n",
       "      <td>0</td>\n",
       "      <td>0</td>\n",
       "      <td>16</td>\n",
       "      <td>2</td>\n",
       "      <td>24</td>\n",
       "      <td>20</td>\n",
       "      <td>0</td>\n",
       "      <td>...</td>\n",
       "      <td>0</td>\n",
       "      <td>12</td>\n",
       "      <td>10</td>\n",
       "      <td>31</td>\n",
       "      <td>0</td>\n",
       "      <td>0</td>\n",
       "      <td>0</td>\n",
       "      <td>30</td>\n",
       "      <td>31</td>\n",
       "      <td>2</td>\n",
       "    </tr>\n",
       "    <tr>\n",
       "      <th>4</th>\n",
       "      <td>O=C1C=Cc2ccccc2C1=NO</td>\n",
       "      <td>-2.937000</td>\n",
       "      <td>0</td>\n",
       "      <td>0</td>\n",
       "      <td>0</td>\n",
       "      <td>8</td>\n",
       "      <td>4</td>\n",
       "      <td>30</td>\n",
       "      <td>0</td>\n",
       "      <td>0</td>\n",
       "      <td>...</td>\n",
       "      <td>0</td>\n",
       "      <td>14</td>\n",
       "      <td>11</td>\n",
       "      <td>21</td>\n",
       "      <td>0</td>\n",
       "      <td>0</td>\n",
       "      <td>0</td>\n",
       "      <td>20</td>\n",
       "      <td>21</td>\n",
       "      <td>2</td>\n",
       "    </tr>\n",
       "    <tr>\n",
       "      <th>...</th>\n",
       "      <td>...</td>\n",
       "      <td>...</td>\n",
       "      <td>...</td>\n",
       "      <td>...</td>\n",
       "      <td>...</td>\n",
       "      <td>...</td>\n",
       "      <td>...</td>\n",
       "      <td>...</td>\n",
       "      <td>...</td>\n",
       "      <td>...</td>\n",
       "      <td>...</td>\n",
       "      <td>...</td>\n",
       "      <td>...</td>\n",
       "      <td>...</td>\n",
       "      <td>...</td>\n",
       "      <td>...</td>\n",
       "      <td>...</td>\n",
       "      <td>...</td>\n",
       "      <td>...</td>\n",
       "      <td>...</td>\n",
       "      <td>...</td>\n",
       "    </tr>\n",
       "    <tr>\n",
       "      <th>16621</th>\n",
       "      <td>c1cnoc1</td>\n",
       "      <td>0.383095</td>\n",
       "      <td>0</td>\n",
       "      <td>0</td>\n",
       "      <td>0</td>\n",
       "      <td>3</td>\n",
       "      <td>4</td>\n",
       "      <td>9</td>\n",
       "      <td>0</td>\n",
       "      <td>0</td>\n",
       "      <td>...</td>\n",
       "      <td>0</td>\n",
       "      <td>5</td>\n",
       "      <td>5</td>\n",
       "      <td>8</td>\n",
       "      <td>0</td>\n",
       "      <td>0</td>\n",
       "      <td>0</td>\n",
       "      <td>8</td>\n",
       "      <td>8</td>\n",
       "      <td>1</td>\n",
       "    </tr>\n",
       "    <tr>\n",
       "      <th>16622</th>\n",
       "      <td>c1coc(-c2nc3ccccc3[nH]2)c1</td>\n",
       "      <td>-3.414016</td>\n",
       "      <td>-1</td>\n",
       "      <td>0</td>\n",
       "      <td>0</td>\n",
       "      <td>8</td>\n",
       "      <td>4</td>\n",
       "      <td>36</td>\n",
       "      <td>0</td>\n",
       "      <td>0</td>\n",
       "      <td>...</td>\n",
       "      <td>0</td>\n",
       "      <td>16</td>\n",
       "      <td>15</td>\n",
       "      <td>24</td>\n",
       "      <td>0</td>\n",
       "      <td>0</td>\n",
       "      <td>0</td>\n",
       "      <td>22</td>\n",
       "      <td>24</td>\n",
       "      <td>3</td>\n",
       "    </tr>\n",
       "    <tr>\n",
       "      <th>16623</th>\n",
       "      <td>c1nc[nH]n1</td>\n",
       "      <td>0.897170</td>\n",
       "      <td>0</td>\n",
       "      <td>0</td>\n",
       "      <td>0</td>\n",
       "      <td>3</td>\n",
       "      <td>4</td>\n",
       "      <td>9</td>\n",
       "      <td>0</td>\n",
       "      <td>0</td>\n",
       "      <td>...</td>\n",
       "      <td>0</td>\n",
       "      <td>5</td>\n",
       "      <td>5</td>\n",
       "      <td>8</td>\n",
       "      <td>0</td>\n",
       "      <td>0</td>\n",
       "      <td>0</td>\n",
       "      <td>8</td>\n",
       "      <td>8</td>\n",
       "      <td>1</td>\n",
       "    </tr>\n",
       "    <tr>\n",
       "      <th>16624</th>\n",
       "      <td>c1ncc2[nH]cnc2n1</td>\n",
       "      <td>0.619695</td>\n",
       "      <td>0</td>\n",
       "      <td>0</td>\n",
       "      <td>0</td>\n",
       "      <td>4</td>\n",
       "      <td>6</td>\n",
       "      <td>18</td>\n",
       "      <td>0</td>\n",
       "      <td>0</td>\n",
       "      <td>...</td>\n",
       "      <td>0</td>\n",
       "      <td>10</td>\n",
       "      <td>10</td>\n",
       "      <td>14</td>\n",
       "      <td>0</td>\n",
       "      <td>0</td>\n",
       "      <td>0</td>\n",
       "      <td>13</td>\n",
       "      <td>14</td>\n",
       "      <td>2</td>\n",
       "    </tr>\n",
       "    <tr>\n",
       "      <th>16625</th>\n",
       "      <td>c1ncc2n[nH]nc2n1</td>\n",
       "      <td>-0.231900</td>\n",
       "      <td>0</td>\n",
       "      <td>0</td>\n",
       "      <td>0</td>\n",
       "      <td>3</td>\n",
       "      <td>8</td>\n",
       "      <td>15</td>\n",
       "      <td>0</td>\n",
       "      <td>0</td>\n",
       "      <td>...</td>\n",
       "      <td>0</td>\n",
       "      <td>10</td>\n",
       "      <td>10</td>\n",
       "      <td>13</td>\n",
       "      <td>0</td>\n",
       "      <td>0</td>\n",
       "      <td>0</td>\n",
       "      <td>12</td>\n",
       "      <td>13</td>\n",
       "      <td>2</td>\n",
       "    </tr>\n",
       "  </tbody>\n",
       "</table>\n",
       "<p>16626 rows × 40 columns</p>\n",
       "</div>"
      ],
      "text/plain": [
       "                                        smiles_canon  Solubility  charge  \\\n",
       "0                     O=C1c2ccccc2C(=O)c2c(Cl)cccc21   -5.540000       0   \n",
       "1                        NC(N)=NS(=O)(=O)c1ccc(N)cc1   -1.984970       0   \n",
       "2      CCC1C(N)CN1c1cc2c(cc1F)c(=O)c(C(=O)O)cn2C1CC1   -3.912000       0   \n",
       "3              CCC1(CC)OC(=O)c2cc([N+](=O)[O-])ccc21   -3.656000       1   \n",
       "4                               O=C1C=Cc2ccccc2C1=NO   -2.937000       0   \n",
       "...                                              ...         ...     ...   \n",
       "16621                                        c1cnoc1    0.383095       0   \n",
       "16622                     c1coc(-c2nc3ccccc3[nH]2)c1   -3.414016      -1   \n",
       "16623                                     c1nc[nH]n1    0.897170       0   \n",
       "16624                               c1ncc2[nH]cnc2n1    0.619695       0   \n",
       "16625                               c1ncc2n[nH]nc2n1   -0.231900       0   \n",
       "\n",
       "       many_double_bonds  atoms_degree_0  atoms_degree_1  atoms_degree_2  \\\n",
       "0                      0               0              10               0   \n",
       "1                      0               0              12               2   \n",
       "2                      0               0              23               2   \n",
       "3                      0               0              16               2   \n",
       "4                      0               0               8               4   \n",
       "...                  ...             ...             ...             ...   \n",
       "16621                  0               0               3               4   \n",
       "16622                  0               0               8               4   \n",
       "16623                  0               0               3               4   \n",
       "16624                  0               0               4               6   \n",
       "16625                  0               0               3               8   \n",
       "\n",
       "       atoms_degree_3  atoms_degree_4  atoms_degree_5  ...  zero_bonds  \\\n",
       "0                  42               0               0  ...           0   \n",
       "1                  30               4               0  ...           0   \n",
       "2                  39              32               0  ...           0   \n",
       "3                  24              20               0  ...           0   \n",
       "4                  30               0               0  ...           0   \n",
       "...               ...             ...             ...  ...         ...   \n",
       "16621               9               0               0  ...           0   \n",
       "16622              36               0               0  ...           0   \n",
       "16623               9               0               0  ...           0   \n",
       "16624              18               0               0  ...           0   \n",
       "16625              15               0               0  ...           0   \n",
       "\n",
       "       conjugated_bonds  bonds_in_ring  chirality_none  chirality_any  \\\n",
       "0                    18             16              26              0   \n",
       "1                    10              6              24              0   \n",
       "2                    16             18              48              0   \n",
       "3                    12             10              31              0   \n",
       "4                    14             11              21              0   \n",
       "...                 ...            ...             ...            ...   \n",
       "16621                 5              5               8              0   \n",
       "16622                16             15              24              0   \n",
       "16623                 5              5               8              0   \n",
       "16624                10             10              14              0   \n",
       "16625                10             10              13              0   \n",
       "\n",
       "       chirality_z  chirality_e  n_atoms  n_bonds  n_rings  \n",
       "0                0            0       24       26        3  \n",
       "1                0            0       24       24        1  \n",
       "2                0            0       45       48        4  \n",
       "3                0            0       30       31        2  \n",
       "4                0            0       20       21        2  \n",
       "...            ...          ...      ...      ...      ...  \n",
       "16621            0            0        8        8        1  \n",
       "16622            0            0       22       24        3  \n",
       "16623            0            0        8        8        1  \n",
       "16624            0            0       13       14        2  \n",
       "16625            0            0       12       13        2  \n",
       "\n",
       "[16626 rows x 40 columns]"
      ]
     },
     "metadata": {},
     "execution_count": 256
    }
   ],
   "metadata": {}
  },
  {
   "cell_type": "code",
   "execution_count": 258,
   "source": [
    "### Save the train and test data with feature engineered properties of the compounds. \n",
    "df_final_train.to_csv('data/df_train_fe.csv')\n",
    "df_final_test.to_csv('data/df_test_fe.csv') "
   ],
   "outputs": [],
   "metadata": {}
  },
  {
   "cell_type": "code",
   "execution_count": null,
   "source": [],
   "outputs": [],
   "metadata": {}
  }
 ],
 "metadata": {
  "orig_nbformat": 4,
  "language_info": {
   "name": "python",
   "version": "3.8.11",
   "mimetype": "text/x-python",
   "codemirror_mode": {
    "name": "ipython",
    "version": 3
   },
   "pygments_lexer": "ipython3",
   "nbconvert_exporter": "python",
   "file_extension": ".py"
  },
  "kernelspec": {
   "name": "python3",
   "display_name": "Python 3.8.11 64-bit ('tensorflow': conda)"
  },
  "interpreter": {
   "hash": "d36e255458e31a29f527eb52fefea68899c70442c5f8ed7f862cc396cd8e7941"
  }
 },
 "nbformat": 4,
 "nbformat_minor": 2
}